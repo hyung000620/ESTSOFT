{
 "cells": [
  {
   "cell_type": "code",
   "execution_count": 1,
   "metadata": {},
   "outputs": [
    {
     "name": "stdout",
     "output_type": "stream",
     "text": [
      "                   A         B         C\n",
      "2023-07-04  1.101214  0.557850  0.080542\n",
      "2023-07-05  1.152569 -1.131010  0.283427\n",
      "2023-07-06  0.287169  0.525898  0.129013\n",
      "2023-07-07  0.788198 -0.031673 -0.920141\n",
      "2023-07-08 -0.295410 -0.416004  0.624830\n"
     ]
    }
   ],
   "source": [
    "import numpy as np\n",
    "import pandas as pd\n",
    "\n",
    "\n",
    "data = np.random.randn(5,3)\n",
    "colums = [\"A\",\"B\",\"C\"]\n",
    "index = pd.date_range('2023-07-04',periods=5)\n",
    "\n",
    "df = pd.DataFrame(data, index=index, columns=colums)\n",
    "print(df)"
   ]
  },
  {
   "cell_type": "code",
   "execution_count": null,
   "metadata": {},
   "outputs": [],
   "source": []
  }
 ],
 "metadata": {
  "kernelspec": {
   "display_name": "Python 3",
   "language": "python",
   "name": "python3"
  },
  "language_info": {
   "codemirror_mode": {
    "name": "ipython",
    "version": 3
   },
   "file_extension": ".py",
   "mimetype": "text/x-python",
   "name": "python",
   "nbconvert_exporter": "python",
   "pygments_lexer": "ipython3",
   "version": "3.11.3"
  },
  "orig_nbformat": 4
 },
 "nbformat": 4,
 "nbformat_minor": 2
}
